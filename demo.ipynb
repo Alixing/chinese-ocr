{
 "cells": [
  {
   "cell_type": "code",
   "execution_count": null,
   "metadata": {},
   "outputs": [],
   "source": [
    "import time\n",
    "from glob import glob\n",
    "from IPython.display import Image as display\n",
    "import numpy as np\n",
    "from PIL import Image\n",
    "\n",
    "import model\n",
    "paths = glob('./test/*.*')"
   ]
  },
  {
   "cell_type": "markdown",
   "metadata": {},
   "source": [
    "## pytorch crnn"
   ]
  },
  {
   "cell_type": "code",
   "execution_count": null,
   "metadata": {},
   "outputs": [],
   "source": [
    "img = Image.open(sorted(paths)[0])\n",
    "img = np.array(img.convert('RGB'))\n",
    "t = time.time()\n",
    "result, img, angle = model.model(img, model_type='pytorch_crnn', angle_detect=True)\n",
    "\n",
    "print(\"Mission complete, it takes {}s\".format(time.time() - t)) \n",
    "print(\"---------------------------------------\")\n",
    "print(\"The literal orientation of the image is {} degrees\".format(angle))\n",
    "print(\"Recognition Result:\\n\")\n",
    "\n",
    "for key in result:\n",
    "    print(result[key][1])\n",
    "\n",
    "Image.fromarray(img)"
   ]
  },
  {
   "cell_type": "markdown",
   "metadata": {},
   "source": [
    "## keras crnn "
   ]
  },
  {
   "cell_type": "code",
   "execution_count": null,
   "metadata": {},
   "outputs": [],
   "source": [
    "img = Image.open(sorted(paths)[0])\n",
    "img = np.array(img.convert('RGB'))\n",
    "t = time.time()\n",
    "result, img, angle = model.model(img, model_type='keras_crnn', angle_detect=True)\n",
    "\n",
    "print(\"Mission complete, it takes {}s\".format(time.time() - t)) \n",
    "print(\"---------------------------------------\")\n",
    "print(\"The literal orientation of the image is {} degrees\".format(angle))\n",
    "print(\"Recognition Result:\\n\")\n",
    "\n",
    "for key in result:\n",
    "    print(result[key][1])\n",
    "\n",
    "Image.fromarray(img)"
   ]
  },
  {
   "cell_type": "code",
   "execution_count": null,
   "metadata": {},
   "outputs": [],
   "source": []
  }
 ],
 "metadata": {
  "kernelspec": {
   "display_name": "Python 2",
   "language": "python",
   "name": "python2"
  },
  "language_info": {
   "codemirror_mode": {
    "name": "ipython",
    "version": 2
   },
   "file_extension": ".py",
   "mimetype": "text/x-python",
   "name": "python",
   "nbconvert_exporter": "python",
   "pygments_lexer": "ipython2",
   "version": "2.7.13"
  }
 },
 "nbformat": 4,
 "nbformat_minor": 2
}
